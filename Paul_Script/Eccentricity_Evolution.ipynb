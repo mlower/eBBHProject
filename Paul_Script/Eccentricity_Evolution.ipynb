{
 "cells": [
  {
   "cell_type": "code",
   "execution_count": 1,
   "metadata": {
    "collapsed": false
   },
   "outputs": [
    {
     "name": "stdout",
     "output_type": "stream",
     "text": [
      "Populating the interactive namespace from numpy and matplotlib\n"
     ]
    }
   ],
   "source": [
    "%pylab inline\n",
    "import numpy as np\n",
    "\n",
    "import astropy.constants as c\n",
    "import astropy.units as u\n",
    "\n",
    "from scipy import integrate\n",
    "\n",
    "matplotlib.rcParams['font.family'] = 'serif'\n",
    "matplotlib.rcParams['font.family'] = 'Times New Roman'\n",
    "\n",
    "pylab.rc(\"axes\", linewidth=2.0)\n",
    "pylab.rc(\"lines\", markeredgewidth=4)\n",
    "pylab.rc('xtick', labelsize = 20)\n",
    "pylab.rc('ytick', labelsize = 20)\n"
   ]
  },
  {
   "cell_type": "code",
   "execution_count": 35,
   "metadata": {
    "collapsed": true
   },
   "outputs": [],
   "source": [
    "m1 = 9.1 * u.Msun\n",
    "m2 = 8.2 * u.Msun\n",
    "P0 = 1. * u.day\n",
    "ecc0 = 0.6\n",
    "\n",
    "###  solve the coupled ODE from Peters 1964\n",
    "\n",
    "def dXdt(X, t=0):\n",
    "    '''\n",
    "    X = [a, e]\n",
    "    '''\n",
    "    #print(X)\n",
    "    xi = (c.G**3 * m1 * m2 * (m1 + m2) / c.c**5).si\n",
    "    return np.array([\n",
    "            (-64. * xi / (5. * X[0]**3 * (1. - X[1]**2)**(7./2.)) * (1. + 73./24. * X[1]**2 + 37./96. * X[1]**4)).si.value,\n",
    "            (-304. * xi * X[1] / (X[0]**4 * (1. - X[1]**2)**(5./2.)) * (1. + 121./304. * X[1]**2)).si.value\n",
    "        ])"
   ]
  },
  {
   "cell_type": "code",
   "execution_count": 36,
   "metadata": {
    "collapsed": false
   },
   "outputs": [],
   "source": [
    "# initial separation from initial period\n",
    "a0 = ((c.G * (m1 + m2) * P0**2 / (4. * np.pi**2))**(1./3.)).si.value"
   ]
  },
  {
   "cell_type": "code",
   "execution_count": 37,
   "metadata": {
    "collapsed": false
   },
   "outputs": [
    {
     "name": "stderr",
     "output_type": "stream",
     "text": [
      "/Users/MarcusLower/anaconda3/lib/python3.6/site-packages/scipy/integrate/odepack.py:218: ODEintWarning: Excess work done on this call (perhaps wrong Dfun type). Run with full_output = 1 to get quantitative information.\n",
      "  warnings.warn(warning_msg, ODEintWarning)\n"
     ]
    },
    {
     "data": {
      "text/plain": [
       "'Excess work done on this call (perhaps wrong Dfun type).'"
      ]
     },
     "execution_count": 37,
     "metadata": {},
     "output_type": "execute_result"
    }
   ],
   "source": [
    "tmax = (1.5e9 * u.yr).si.value\n",
    "\n",
    "tt = np.logspace(-1, np.log10(tmax), 3000)\n",
    "\n",
    "ICs = array([a0, ecc0])\n",
    "\n",
    "X, infodict = integrate.odeint(dXdt, ICs, tt, full_output=True)\n",
    "\n",
    "infodict['message']"
   ]
  },
  {
   "cell_type": "code",
   "execution_count": 38,
   "metadata": {
    "collapsed": false
   },
   "outputs": [
    {
     "data": {
      "image/png": "[encoded data removed]",
      "text/plain": [
       "<matplotlib.figure.Figure at 0x117afcba8>"
      ]
     },
     "metadata": {},
     "output_type": "display_data"
    },
    {
     "data": {
      "image/png": "[encoded data removed]",
      "text/plain": [
       "<matplotlib.figure.Figure at 0x117a75ef0>"
      ]
     },
     "metadata": {},
     "output_type": "display_data"
    },
    {
     "data": {
      "text/plain": [
       "(0, 1)"
      ]
     },
     "execution_count": 38,
     "metadata": {},
     "output_type": "execute_result"
    },
    {
     "data": {
      "image/png": "[encoded data removed]",
      "text/plain": [
       "<matplotlib.figure.Figure at 0x117b1be10>"
      ]
     },
     "metadata": {},
     "output_type": "display_data"
    }
   ],
   "source": [
    "tyr = (tt * u.s).to('yr').value\n",
    "\n",
    "plt.loglog(tyr, X[:, 0])\n",
    "plt.xlim(1e8, max(tyr))\n",
    "plt.ylim(1e8, a0)\n",
    "plt.xlabel('yr', size=20)\n",
    "plt.ylabel('a [m]', size=20)\n",
    "plt.savefig('sep.png')\n",
    "\n",
    "plt.show()\n",
    "plt.loglog(tyr, X[:, 1])\n",
    "plt.xlim(1e8, max(tyr))\n",
    "plt.xlabel('yr', size=20)\n",
    "plt.ylabel('e', size=20)\n",
    "plt.ylim(1e-7, 1)\n",
    "plt.savefig('ecc.png')\n",
    "\n",
    "plt.show()\n",
    "plt.semilogy(X[:,1],X[:,0])\n",
    "plt.ylim(5e4,8e9)\n",
    "plt.xlim(0,1)"
   ]
  },
  {
   "cell_type": "code",
   "execution_count": null,
   "metadata": {
    "collapsed": true
   },
   "outputs": [],
   "source": []
  }
 ],
 "metadata": {
  "kernelspec": {
   "display_name": "Python 3",
   "language": "python",
   "name": "python3"
  },
  "language_info": {
   "codemirror_mode": {
    "name": "ipython",
    "version": 3
   },
   "file_extension": ".py",
   "mimetype": "text/x-python",
   "name": "python",
   "nbconvert_exporter": "python",
   "pygments_lexer": "ipython3",
   "version": "3.6.0"
  }
 },
 "nbformat": 4,
 "nbformat_minor": 0
}
