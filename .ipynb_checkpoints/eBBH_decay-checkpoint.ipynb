{
 "cells": [
  {
   "cell_type": "markdown",
   "metadata": {},
   "source": [
    "Eccentric Binary Black Hole Orbital Decay\n",
    "\n",
    "This program solves the coupled set of ODEs given by equations 5.6 & 5.7 in Peters (1964).\n",
    "\n",
    "-Marcus E. Lower (2017)"
   ]
  },
  {
   "cell_type": "code",
   "execution_count": 1,
   "metadata": {
    "collapsed": false
   },
   "outputs": [
    {
     "name": "stdout",
     "output_type": "stream",
     "text": [
      "Populating the interactive namespace from numpy and matplotlib\n"
     ]
    }
   ],
   "source": [
    "%pylab inline\n",
    "\n",
    "import numpy as np\n",
    "\n",
    "import astropy.constants as c\n",
    "import astropy.units as u\n",
    "\n",
    "from scipy import integrate\n",
    "\n",
    "import matplotlib.pyplot as plt"
   ]
  },
  {
   "cell_type": "markdown",
   "metadata": {},
   "source": [
    "Binary attributes:"
   ]
  },
  {
   "cell_type": "code",
   "execution_count": 2,
   "metadata": {
    "collapsed": false
   },
   "outputs": [],
   "source": [
    "m1 = 36.0*u.Msun\n",
    "m2 = 29.0*u.Msun \n",
    "\n",
    "Rs1 = (2*c.G*m1)/(c.c**2)\n",
    "Rs2 = (2*c.G*m2)/(c.c**2)\n",
    "\n",
    "P = 1.*u.day"
   ]
  },
  {
   "cell_type": "markdown",
   "metadata": {},
   "source": [
    "Initial conditions: separation and eccentricity at binary formation"
   ]
  },
  {
   "cell_type": "code",
   "execution_count": 3,
   "metadata": {
    "collapsed": false
   },
   "outputs": [],
   "source": [
    "ai = ((c.G *(m1 + m2)*P**2/(4.*np.pi**2))**(1./3.)).si.value\n",
    "ei = 0.5"
   ]
  },
  {
   "cell_type": "markdown",
   "metadata": {},
   "source": [
    "Equations 5.6 & 5.7 from Peters (1964) are a set of coupled ODEs given as: \n",
    "\n",
    "$\\big<\\frac{da}{dt}\\big> = -\\frac{64}{5}\\frac{G^{3}m_{1}m_{2}(m_{1}+m_{2})}{c^{5}a^{3}(1-e^{2})^{7/2}}\\Big[1+\\frac{73}{24}e^{2}+\\frac{37}{96}e^{4}\\Big]$    \n",
    "\n",
    "$\\big<\\frac{de}{dt}\\big> = -\\frac{304}{15}e\\frac{G^{3}m_{1}m_{2}(m_{1}+m_{2})}{c^{5}a^{4}(1-e^{2})^{2}}\\Big[1+\\frac{121}{304}e^{2}\\Big]$\n",
    "\n",
    "These are integrated below to find the decay in eccentricity and semi-major axis with time."
   ]
  },
  {
   "cell_type": "code",
   "execution_count": 4,
   "metadata": {
    "collapsed": false
   },
   "outputs": [],
   "source": [
    "def dOdt(O,t=0):\n",
    "    '''\n",
    "    O = [semi-major axis, eccentricity]\n",
    "    '''\n",
    "    alpha = (c.G**3*m1*m2*(m1+m2)/c.c**5).si\n",
    "    return np.array([\n",
    "        (-64./5. * alpha/(O[0]**3*(1. - O[1]**2)**(7./2.)) * (1. + 73./24.*O[1]**2 + 37./96.*O[1]**4)).si.value, \n",
    "        (-304./15. * O[1] * alpha/(O[0]**4*(1. - O[1]**2)**(5./2.)) * (1. + 121./304.*O[1]**2)).si.value\n",
    "    ])"
   ]
  },
  {
   "cell_type": "code",
   "execution_count": 5,
   "metadata": {
    "collapsed": false
   },
   "outputs": [
    {
     "name": "stderr",
     "output_type": "stream",
     "text": [
      "/Users/MarcusLower/anaconda3/lib/python3.6/site-packages/scipy/integrate/odepack.py:218: ODEintWarning: Excess work done on this call (perhaps wrong Dfun type). Run with full_output = 1 to get quantitative information.\n",
      "  warnings.warn(warning_msg, ODEintWarning)\n"
     ]
    },
    {
     "data": {
      "text/plain": [
       "'Excess work done on this call (perhaps wrong Dfun type).'"
      ]
     },
     "execution_count": 5,
     "metadata": {},
     "output_type": "execute_result"
    }
   ],
   "source": [
    "tmax = (1.5e9*u.yr).si.value                 # maximum time value\n",
    "time = np.logspace(-1, np.log10(tmax), 3000) # array of 3000 time values\n",
    "Init = array([ai, ei])                       # initial conditions\n",
    "\n",
    "O, infodict = integrate.odeint(dOdt, Init, time, full_output=True)\n",
    "\n",
    "infodict['message']"
   ]
  },
  {
   "cell_type": "markdown",
   "metadata": {},
   "source": [
    "Calculating the orbital period and the resulting gravitational wave frequency emitted by the binary:"
   ]
  },
  {
   "cell_type": "code",
   "execution_count": 6,
   "metadata": {
    "collapsed": false
   },
   "outputs": [
    {
     "name": "stderr",
     "output_type": "stream",
     "text": [
      "/Users/MarcusLower/anaconda3/lib/python3.6/site-packages/ipykernel/__main__.py:2: RuntimeWarning: divide by zero encountered in true_divide\n",
      "  from ipykernel import kernelapp as app\n"
     ]
    }
   ],
   "source": [
    "Period = ((O[:,0]**2 * (4.*np.pi**2)/(c.G*(m1+m2)))**(1/2)).si.value\n",
    "GWfreq = 2/(Period)"
   ]
  },
  {
   "cell_type": "markdown",
   "metadata": {
    "collapsed": true
   },
   "source": [
    "Plotting Semi-major axis [m] vs time [years] & Eccentricy vs time [years]:"
   ]
  },
  {
   "cell_type": "code",
   "execution_count": 7,
   "metadata": {
    "collapsed": false
   },
   "outputs": [
    {
     "data": {
      "image/png": "[encoded data removed]",
      "text/plain": [
       "<matplotlib.figure.Figure at 0x1114f11d0>"
      ]
     },
     "metadata": {},
     "output_type": "display_data"
    },
    {
     "data": {
      "image/png": "[encoded data removed]",
      "text/plain": [
       "<matplotlib.figure.Figure at 0x111481898>"
      ]
     },
     "metadata": {},
     "output_type": "display_data"
    },
    {
     "data": {
      "image/png": "[encoded data removed]",
      "text/plain": [
       "<matplotlib.figure.Figure at 0x114d65208>"
      ]
     },
     "metadata": {},
     "output_type": "display_data"
    }
   ],
   "source": [
    "\n",
    "time_year = (time * u.s).to('yr').value\n",
    "\n",
    "f1 = plt.figure()\n",
    "ax1 = f1.add_subplot(111)\n",
    "ax1.loglog(time_year,O[:,0],color='red')\n",
    "plt.title('BBH semi-major axis decay')\n",
    "plt.xlabel('Time [years]')\n",
    "plt.ylabel(r'Semi-Major Axis [m]')\n",
    "plt.xlim(1e7,max(time_year))\n",
    "plt.ylim(1e8,1e10)\n",
    "plt.show()\n",
    "\n",
    "f2 = plt.figure()\n",
    "ax2 = f2.add_subplot(111)\n",
    "ax2.semilogx(time_year,O[:,1],color='blue')\n",
    "plt.title('BBH eccentricity decay')\n",
    "plt.xlabel('Time [years]')\n",
    "plt.ylabel(r'Eccentricity')\n",
    "plt.xlim(1e7,max(time_year))\n",
    "plt.ylim(1e-7,1)\n",
    "plt.show()\n",
    "\n",
    "f3 = plt.figure()\n",
    "ax3 = f3.add_subplot(111)\n",
    "ax3.loglog(GWfreq,O[:,1],color='blue')\n",
    "plt.title('eBBH eccentricity vs GW frequency')\n",
    "plt.xlabel('GW frequency [Hz]')\n",
    "plt.ylabel(r'Eccentricity')\n",
    "plt.xlim(2,4000)\n",
    "plt.ylim(1e-7,1)\n",
    "plt.show()"
   ]
  },
  {
   "cell_type": "code",
   "execution_count": null,
   "metadata": {
    "collapsed": true
   },
   "outputs": [],
   "source": []
  }
 ],
 "metadata": {
  "kernelspec": {
   "display_name": "Python 3",
   "language": "python",
   "name": "python3"
  },
  "language_info": {
   "codemirror_mode": {
    "name": "ipython",
    "version": 3
   },
   "file_extension": ".py",
   "mimetype": "text/x-python",
   "name": "python",
   "nbconvert_exporter": "python",
   "pygments_lexer": "ipython3",
   "version": "3.6.0"
  }
 },
 "nbformat": 4,
 "nbformat_minor": 2
}
