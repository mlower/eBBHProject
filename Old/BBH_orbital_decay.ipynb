{
 "cells": [
  {
   "cell_type": "code",
   "execution_count": 5,
   "metadata": {
    "collapsed": false
   },
   "outputs": [
    {
     "data": {
      "image/png": "[encoded data removed]",
      "text/plain": [
       "<matplotlib.figure.Figure at 0x10d4560f0>"
      ]
     },
     "metadata": {},
     "output_type": "display_data"
    },
    {
     "data": {
      "image/png": "[encoded data removed]",
      "text/plain": [
       "<matplotlib.figure.Figure at 0x106ab8fd0>"
      ]
     },
     "metadata": {},
     "output_type": "display_data"
    }
   ],
   "source": [
    "# This program solves the coupled set of ODEs given by equations 5.6 & 5.7 in Peters (1964)\n",
    "# BBH_eccentricity: program that calculates the eccentricity evolution of a\n",
    "# binary black hole system using eqns 5.6 & 5.7 from Peters (1964).\n",
    "\n",
    "# Note: all constants & masses are in CGS units\n",
    "\n",
    "import numpy as np\n",
    "import scipy as sp\n",
    "import matplotlib.pyplot as plt\n",
    "\n",
    "#--------------------------------------------------------------------------\n",
    "# Constants:\n",
    "\n",
    "G = 6.674e-8           # Gravitational constant (cm^3/g/s)\n",
    "c = 2.998e10           # speed of light (cm/s)\n",
    "Msun = 1.98e33         # solar mass (g)\n",
    "AU = 1.496e13          # Astronomical Unit (cm)\n",
    "day = 60*60*24         # 1 day (s)\n",
    "year = 365*day\n",
    "\n",
    "# Binary attributes:\n",
    "\n",
    "m1 = 9.1*Msun            # mass of primary BH\n",
    "m2 = 8.2*Msun            # mass of secondary BH\n",
    "Rs1 = (2*G*m1)/(c**2)  # Schwarzchild radius of primary BH\n",
    "Rs2 = (2*G*m2)/(c**2)  # Schwarzchild radius of secondary BH\n",
    "ei = 0.6;              # intial binary eccentricity\n",
    "P = 1.0*day\n",
    "ai = (P**2*G*(m1+m2)/(4*np.pi**2))**(1/3); # initial semi-major axis\n",
    "\n",
    "dt = 0.1*day*year\n",
    "time = [0]\n",
    "i = 1\n",
    "\n",
    "# Coupled ODEs:\n",
    "aa = [ai/100]\n",
    "ee = [ei]\n",
    "\n",
    "a_old = ai\n",
    "e_old = ei\n",
    "\n",
    "\n",
    "while (a_old >= 0):\n",
    "    i = i + 1\n",
    "    dadt = -(64/5) * (G**3*m1*m2*(m1+m2))/(c**5*a_old**3*(1-e_old**2)**(7/2)) * (1+(73/24)*e_old**2+(37/96)*e_old**4)\n",
    "    dedt = -(304/15) * e_old * (G**3*m1*m2*(m1+m2))/(c**5*a_old**4*(1-e_old**2)**(5/2)) * (1+(121/304)*e_old**2)\n",
    "        \n",
    "    a_new = a_old + dt*dadt\n",
    "    e_new = e_old + dt*dedt\n",
    "    \n",
    "    aa = aa + [a_new/100]\n",
    "    ee = ee + [e_new]\n",
    "    \n",
    "    time = time + [i*dt]\n",
    "    \n",
    "    a_old = a_new\n",
    "    e_old = e_new\n",
    "        \n",
    "time_year = [x / year for x in time]\n",
    "\n",
    "f1 = plt.figure()\n",
    "ax1 = f1.add_subplot(111)\n",
    "ax1.loglog(time_year,aa,color='red')\n",
    "plt.title('BBH semi-major axis decay')\n",
    "plt.xlabel('Time (years)')\n",
    "plt.ylabel(r'Semi-Major Axis (m)')\n",
    "plt.xlim(1e8,2e9)\n",
    "plt.ylim(1e8,1e10)\n",
    "plt.show()\n",
    "\n",
    "f2 = plt.figure()\n",
    "ax2 = f2.add_subplot(111)\n",
    "ax2.loglog(time_year,ee,color='blue')\n",
    "plt.title('BBH eccentricity decay')\n",
    "plt.xlabel('Time (years)')\n",
    "plt.ylabel(r'Eccentricity')\n",
    "plt.xlim(1e8,2e9)\n",
    "plt.ylim(1e-7,1.0)\n",
    "plt.show()"
   ]
  },
  {
   "cell_type": "code",
   "execution_count": null,
   "metadata": {
    "collapsed": true
   },
   "outputs": [],
   "source": []
  }
 ],
 "metadata": {
  "kernelspec": {
   "display_name": "Python 3",
   "language": "python",
   "name": "python3"
  },
  "language_info": {
   "codemirror_mode": {
    "name": "ipython",
    "version": 3
   },
   "file_extension": ".py",
   "mimetype": "text/x-python",
   "name": "python",
   "nbconvert_exporter": "python",
   "pygments_lexer": "ipython3",
   "version": "3.6.0"
  }
 },
 "nbformat": 4,
 "nbformat_minor": 2
}
